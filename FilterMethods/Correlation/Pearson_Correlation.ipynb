{
 "cells": [
  {
   "cell_type": "code",
   "execution_count": 31,
   "metadata": {
    "executionInfo": {
     "elapsed": 4,
     "status": "ok",
     "timestamp": 1743754054273,
     "user": {
      "displayName": "Danish Ali",
      "userId": "17532472304470261445"
     },
     "user_tz": -300
    },
    "id": "w0eBZ9ElZUyb"
   },
   "outputs": [],
   "source": [
    "import numpy as np\n",
    "import pandas as pd\n",
    "import seaborn as sns\n",
    "import matplotlib.pyplot as plt\n",
    "from scipy.stats import rankdata\n",
    "from sklearn.datasets import load_iris\n"
   ]
  },
  {
   "cell_type": "code",
   "execution_count": 32,
   "metadata": {
    "executionInfo": {
     "elapsed": 14,
     "status": "ok",
     "timestamp": 1743754055040,
     "user": {
      "displayName": "Danish Ali",
      "userId": "17532472304470261445"
     },
     "user_tz": -300
    },
    "id": "MB1LP0Za_C-V"
   },
   "outputs": [],
   "source": [
    "\n",
    "iris = load_iris()\n",
    "\n",
    "X = iris.data\n",
    "y = iris.target\n"
   ]
  },
  {
   "cell_type": "code",
   "execution_count": 33,
   "metadata": {
    "colab": {
     "base_uri": "https://localhost:8080/"
    },
    "executionInfo": {
     "elapsed": 29,
     "status": "ok",
     "timestamp": 1743754055491,
     "user": {
      "displayName": "Danish Ali",
      "userId": "17532472304470261445"
     },
     "user_tz": -300
    },
    "id": "b9XZV3F8Zka3",
    "outputId": "9b5a6a4e-34ba-42af-a0c5-6e4cdd7863bc"
   },
   "outputs": [
    {
     "data": {
      "text/plain": [
       "array([[5.1, 3.5, 1.4, 0.2],\n",
       "       [4.9, 3. , 1.4, 0.2],\n",
       "       [4.7, 3.2, 1.3, 0.2],\n",
       "       [4.6, 3.1, 1.5, 0.2],\n",
       "       [5. , 3.6, 1.4, 0.2],\n",
       "       [5.4, 3.9, 1.7, 0.4],\n",
       "       [4.6, 3.4, 1.4, 0.3],\n",
       "       [5. , 3.4, 1.5, 0.2],\n",
       "       [4.4, 2.9, 1.4, 0.2],\n",
       "       [4.9, 3.1, 1.5, 0.1],\n",
       "       [5.4, 3.7, 1.5, 0.2],\n",
       "       [4.8, 3.4, 1.6, 0.2],\n",
       "       [4.8, 3. , 1.4, 0.1],\n",
       "       [4.3, 3. , 1.1, 0.1],\n",
       "       [5.8, 4. , 1.2, 0.2],\n",
       "       [5.7, 4.4, 1.5, 0.4],\n",
       "       [5.4, 3.9, 1.3, 0.4],\n",
       "       [5.1, 3.5, 1.4, 0.3],\n",
       "       [5.7, 3.8, 1.7, 0.3],\n",
       "       [5.1, 3.8, 1.5, 0.3],\n",
       "       [5.4, 3.4, 1.7, 0.2],\n",
       "       [5.1, 3.7, 1.5, 0.4],\n",
       "       [4.6, 3.6, 1. , 0.2],\n",
       "       [5.1, 3.3, 1.7, 0.5],\n",
       "       [4.8, 3.4, 1.9, 0.2],\n",
       "       [5. , 3. , 1.6, 0.2],\n",
       "       [5. , 3.4, 1.6, 0.4],\n",
       "       [5.2, 3.5, 1.5, 0.2],\n",
       "       [5.2, 3.4, 1.4, 0.2],\n",
       "       [4.7, 3.2, 1.6, 0.2],\n",
       "       [4.8, 3.1, 1.6, 0.2],\n",
       "       [5.4, 3.4, 1.5, 0.4],\n",
       "       [5.2, 4.1, 1.5, 0.1],\n",
       "       [5.5, 4.2, 1.4, 0.2],\n",
       "       [4.9, 3.1, 1.5, 0.2],\n",
       "       [5. , 3.2, 1.2, 0.2],\n",
       "       [5.5, 3.5, 1.3, 0.2],\n",
       "       [4.9, 3.6, 1.4, 0.1],\n",
       "       [4.4, 3. , 1.3, 0.2],\n",
       "       [5.1, 3.4, 1.5, 0.2],\n",
       "       [5. , 3.5, 1.3, 0.3],\n",
       "       [4.5, 2.3, 1.3, 0.3],\n",
       "       [4.4, 3.2, 1.3, 0.2],\n",
       "       [5. , 3.5, 1.6, 0.6],\n",
       "       [5.1, 3.8, 1.9, 0.4],\n",
       "       [4.8, 3. , 1.4, 0.3],\n",
       "       [5.1, 3.8, 1.6, 0.2],\n",
       "       [4.6, 3.2, 1.4, 0.2],\n",
       "       [5.3, 3.7, 1.5, 0.2],\n",
       "       [5. , 3.3, 1.4, 0.2],\n",
       "       [7. , 3.2, 4.7, 1.4],\n",
       "       [6.4, 3.2, 4.5, 1.5],\n",
       "       [6.9, 3.1, 4.9, 1.5],\n",
       "       [5.5, 2.3, 4. , 1.3],\n",
       "       [6.5, 2.8, 4.6, 1.5],\n",
       "       [5.7, 2.8, 4.5, 1.3],\n",
       "       [6.3, 3.3, 4.7, 1.6],\n",
       "       [4.9, 2.4, 3.3, 1. ],\n",
       "       [6.6, 2.9, 4.6, 1.3],\n",
       "       [5.2, 2.7, 3.9, 1.4],\n",
       "       [5. , 2. , 3.5, 1. ],\n",
       "       [5.9, 3. , 4.2, 1.5],\n",
       "       [6. , 2.2, 4. , 1. ],\n",
       "       [6.1, 2.9, 4.7, 1.4],\n",
       "       [5.6, 2.9, 3.6, 1.3],\n",
       "       [6.7, 3.1, 4.4, 1.4],\n",
       "       [5.6, 3. , 4.5, 1.5],\n",
       "       [5.8, 2.7, 4.1, 1. ],\n",
       "       [6.2, 2.2, 4.5, 1.5],\n",
       "       [5.6, 2.5, 3.9, 1.1],\n",
       "       [5.9, 3.2, 4.8, 1.8],\n",
       "       [6.1, 2.8, 4. , 1.3],\n",
       "       [6.3, 2.5, 4.9, 1.5],\n",
       "       [6.1, 2.8, 4.7, 1.2],\n",
       "       [6.4, 2.9, 4.3, 1.3],\n",
       "       [6.6, 3. , 4.4, 1.4],\n",
       "       [6.8, 2.8, 4.8, 1.4],\n",
       "       [6.7, 3. , 5. , 1.7],\n",
       "       [6. , 2.9, 4.5, 1.5],\n",
       "       [5.7, 2.6, 3.5, 1. ],\n",
       "       [5.5, 2.4, 3.8, 1.1],\n",
       "       [5.5, 2.4, 3.7, 1. ],\n",
       "       [5.8, 2.7, 3.9, 1.2],\n",
       "       [6. , 2.7, 5.1, 1.6],\n",
       "       [5.4, 3. , 4.5, 1.5],\n",
       "       [6. , 3.4, 4.5, 1.6],\n",
       "       [6.7, 3.1, 4.7, 1.5],\n",
       "       [6.3, 2.3, 4.4, 1.3],\n",
       "       [5.6, 3. , 4.1, 1.3],\n",
       "       [5.5, 2.5, 4. , 1.3],\n",
       "       [5.5, 2.6, 4.4, 1.2],\n",
       "       [6.1, 3. , 4.6, 1.4],\n",
       "       [5.8, 2.6, 4. , 1.2],\n",
       "       [5. , 2.3, 3.3, 1. ],\n",
       "       [5.6, 2.7, 4.2, 1.3],\n",
       "       [5.7, 3. , 4.2, 1.2],\n",
       "       [5.7, 2.9, 4.2, 1.3],\n",
       "       [6.2, 2.9, 4.3, 1.3],\n",
       "       [5.1, 2.5, 3. , 1.1],\n",
       "       [5.7, 2.8, 4.1, 1.3],\n",
       "       [6.3, 3.3, 6. , 2.5],\n",
       "       [5.8, 2.7, 5.1, 1.9],\n",
       "       [7.1, 3. , 5.9, 2.1],\n",
       "       [6.3, 2.9, 5.6, 1.8],\n",
       "       [6.5, 3. , 5.8, 2.2],\n",
       "       [7.6, 3. , 6.6, 2.1],\n",
       "       [4.9, 2.5, 4.5, 1.7],\n",
       "       [7.3, 2.9, 6.3, 1.8],\n",
       "       [6.7, 2.5, 5.8, 1.8],\n",
       "       [7.2, 3.6, 6.1, 2.5],\n",
       "       [6.5, 3.2, 5.1, 2. ],\n",
       "       [6.4, 2.7, 5.3, 1.9],\n",
       "       [6.8, 3. , 5.5, 2.1],\n",
       "       [5.7, 2.5, 5. , 2. ],\n",
       "       [5.8, 2.8, 5.1, 2.4],\n",
       "       [6.4, 3.2, 5.3, 2.3],\n",
       "       [6.5, 3. , 5.5, 1.8],\n",
       "       [7.7, 3.8, 6.7, 2.2],\n",
       "       [7.7, 2.6, 6.9, 2.3],\n",
       "       [6. , 2.2, 5. , 1.5],\n",
       "       [6.9, 3.2, 5.7, 2.3],\n",
       "       [5.6, 2.8, 4.9, 2. ],\n",
       "       [7.7, 2.8, 6.7, 2. ],\n",
       "       [6.3, 2.7, 4.9, 1.8],\n",
       "       [6.7, 3.3, 5.7, 2.1],\n",
       "       [7.2, 3.2, 6. , 1.8],\n",
       "       [6.2, 2.8, 4.8, 1.8],\n",
       "       [6.1, 3. , 4.9, 1.8],\n",
       "       [6.4, 2.8, 5.6, 2.1],\n",
       "       [7.2, 3. , 5.8, 1.6],\n",
       "       [7.4, 2.8, 6.1, 1.9],\n",
       "       [7.9, 3.8, 6.4, 2. ],\n",
       "       [6.4, 2.8, 5.6, 2.2],\n",
       "       [6.3, 2.8, 5.1, 1.5],\n",
       "       [6.1, 2.6, 5.6, 1.4],\n",
       "       [7.7, 3. , 6.1, 2.3],\n",
       "       [6.3, 3.4, 5.6, 2.4],\n",
       "       [6.4, 3.1, 5.5, 1.8],\n",
       "       [6. , 3. , 4.8, 1.8],\n",
       "       [6.9, 3.1, 5.4, 2.1],\n",
       "       [6.7, 3.1, 5.6, 2.4],\n",
       "       [6.9, 3.1, 5.1, 2.3],\n",
       "       [5.8, 2.7, 5.1, 1.9],\n",
       "       [6.8, 3.2, 5.9, 2.3],\n",
       "       [6.7, 3.3, 5.7, 2.5],\n",
       "       [6.7, 3. , 5.2, 2.3],\n",
       "       [6.3, 2.5, 5. , 1.9],\n",
       "       [6.5, 3. , 5.2, 2. ],\n",
       "       [6.2, 3.4, 5.4, 2.3],\n",
       "       [5.9, 3. , 5.1, 1.8]])"
      ]
     },
     "execution_count": 33,
     "metadata": {},
     "output_type": "execute_result"
    }
   ],
   "source": [
    "X"
   ]
  },
  {
   "cell_type": "code",
   "execution_count": 34,
   "metadata": {
    "colab": {
     "base_uri": "https://localhost:8080/"
    },
    "executionInfo": {
     "elapsed": 13,
     "status": "ok",
     "timestamp": 1743754055674,
     "user": {
      "displayName": "Danish Ali",
      "userId": "17532472304470261445"
     },
     "user_tz": -300
    },
    "id": "E8e0XPeZZlzQ",
    "outputId": "40762514-28d0-43da-d5be-e653aa52da92"
   },
   "outputs": [
    {
     "data": {
      "text/plain": [
       "array([0, 0, 0, 0, 0, 0, 0, 0, 0, 0, 0, 0, 0, 0, 0, 0, 0, 0, 0, 0, 0, 0,\n",
       "       0, 0, 0, 0, 0, 0, 0, 0, 0, 0, 0, 0, 0, 0, 0, 0, 0, 0, 0, 0, 0, 0,\n",
       "       0, 0, 0, 0, 0, 0, 1, 1, 1, 1, 1, 1, 1, 1, 1, 1, 1, 1, 1, 1, 1, 1,\n",
       "       1, 1, 1, 1, 1, 1, 1, 1, 1, 1, 1, 1, 1, 1, 1, 1, 1, 1, 1, 1, 1, 1,\n",
       "       1, 1, 1, 1, 1, 1, 1, 1, 1, 1, 1, 1, 2, 2, 2, 2, 2, 2, 2, 2, 2, 2,\n",
       "       2, 2, 2, 2, 2, 2, 2, 2, 2, 2, 2, 2, 2, 2, 2, 2, 2, 2, 2, 2, 2, 2,\n",
       "       2, 2, 2, 2, 2, 2, 2, 2, 2, 2, 2, 2, 2, 2, 2, 2, 2, 2])"
      ]
     },
     "execution_count": 34,
     "metadata": {},
     "output_type": "execute_result"
    }
   ],
   "source": [
    "y"
   ]
  },
  {
   "cell_type": "code",
   "execution_count": 35,
   "metadata": {
    "colab": {
     "base_uri": "https://localhost:8080/"
    },
    "executionInfo": {
     "elapsed": 13,
     "status": "ok",
     "timestamp": 1743754056351,
     "user": {
      "displayName": "Danish Ali",
      "userId": "17532472304470261445"
     },
     "user_tz": -300
    },
    "id": "PA_BNmWlbCWn",
    "outputId": "2960ffc9-4c59-4870-8220-6bd2da99692d"
   },
   "outputs": [
    {
     "name": "stdout",
     "output_type": "stream",
     "text": [
      "[[3]\n",
      " [3]]\n",
      "[[1 2 3]\n",
      " [1 2 3]]\n",
      "[[3 6 9]\n",
      " [3 6 9]]\n",
      "[[1 2 3]\n",
      " [1 2 3]]\n"
     ]
    }
   ],
   "source": [
    "x = np.array([[1,2,3],[1,2,3]])\n",
    "a = x[:,2].reshape(-1,1)\n",
    "print(a)\n",
    "print(x)\n",
    "prod = x\n",
    "prod = a * x\n",
    "print(prod)\n",
    "print(x)"
   ]
  },
  {
   "cell_type": "code",
   "execution_count": 35,
   "metadata": {
    "executionInfo": {
     "elapsed": 10,
     "status": "ok",
     "timestamp": 1743754057186,
     "user": {
      "displayName": "Danish Ali",
      "userId": "17532472304470261445"
     },
     "user_tz": -300
    },
    "id": "242RlK9CeaKY"
   },
   "outputs": [],
   "source": []
  },
  {
   "cell_type": "code",
   "execution_count": 39,
   "metadata": {
    "colab": {
     "base_uri": "https://localhost:8080/"
    },
    "executionInfo": {
     "elapsed": 62,
     "status": "ok",
     "timestamp": 1743754425396,
     "user": {
      "displayName": "Danish Ali",
      "userId": "17532472304470261445"
     },
     "user_tz": -300
    },
    "id": "uGg3ZzB3Znkj",
    "outputId": "07178da4-b628-404c-97c4-2e7c0964a4fc"
   },
   "outputs": [
    {
     "name": "stdout",
     "output_type": "stream",
     "text": [
      "Constructor\n"
     ]
    },
    {
     "data": {
      "text/plain": [
       "array([[ 1.        , -0.16076003,  0.88213076,  0.83524157],\n",
       "       [-0.16076003,  1.        , -0.30268456, -0.27726832],\n",
       "       [ 0.88213076, -0.30268456,  1.        ,  0.93803013],\n",
       "       [ 0.83524157, -0.27726832,  0.93803013,  1.        ]])"
      ]
     },
     "execution_count": 39,
     "metadata": {},
     "output_type": "execute_result"
    }
   ],
   "source": [
    "class Correlation:\n",
    "  def __init__(self):\n",
    "    print(\"Constructor\")\n",
    "\n",
    "  def pearson_corr(self,X):\n",
    "    nexamples,nfeatures = X.shape\n",
    "    n = nexamples\n",
    "    self.corr_matrix = np.zeros((nfeatures,nfeatures))\n",
    "    mean = np.mean(X,axis = 0)\n",
    "    for i in range(nfeatures):\n",
    "      y = np.copy(X)\n",
    "      x = X[:,i]\n",
    "      x = x.reshape(-1,1)\n",
    "      sum_x = np.sum(x,axis=0)\n",
    "      sum_y = np.sum(y,axis = 0)\n",
    "      sum_xy = np.sum(x * y,axis = 0)\n",
    "      sum_x_sum_y = sum_x * sum_y\n",
    "      x_square_sum = np.sum(x**2,axis = 0)\n",
    "      sum_x_square = sum_x ** 2\n",
    "      y_square_sum = np.sum(y**2,axis = 0)\n",
    "      sum_y_square = sum_y ** 2\n",
    "      numerator = (n * sum_xy - sum_x_sum_y)\n",
    "      denominator =  np.sqrt(( n * x_square_sum - sum_x_square) * (n * y_square_sum - sum_y_square))\n",
    "      r =  numerator / denominator\n",
    "      self.corr_matrix[i,:] = r\n",
    "\n",
    "    return self.corr_matrix\n",
    "\n",
    "  def spearman_corr(self,X):\n",
    "    n_samples, n_features = X.shape\n",
    "    corr_matrix = np.zeros((n_features, n_features))\n",
    "\n",
    "    # Convert data to ranks\n",
    "    X_ranked = np.apply_along_axis(rankdata, axis=0, arr=X)\n",
    "\n",
    "    for i in range(n_features):\n",
    "        x = X_ranked[:, i]\n",
    "        x = x.reshape(-1,1)\n",
    "        y = np.copy(X_ranked)\n",
    "        d = x - y\n",
    "        d_squared_sum = np.sum(d**2,axis = 0)\n",
    "\n",
    "        # Apply Spearman formula\n",
    "        n = len(x)\n",
    "        rho = 1 - (6 * d_squared_sum) / (n * (n**2 - 1))\n",
    "        corr_matrix[i,:] = rho\n",
    "\n",
    "    return corr_matrix\n",
    "\n",
    "\n",
    "\n",
    "\n",
    "\n",
    "\n",
    "\n",
    "c = Correlation()\n",
    "pearson_matrix = c.pearson_corr(X)\n",
    "spearman_matrix = c.spearman_corr(X)\n",
    "spearman_matrix\n",
    "\n",
    "\n"
   ]
  },
  {
   "cell_type": "code",
   "execution_count": null,
   "metadata": {
    "colab": {
     "base_uri": "https://localhost:8080/"
    },
    "executionInfo": {
     "elapsed": 69,
     "status": "ok",
     "timestamp": 1743753878989,
     "user": {
      "displayName": "Danish Ali",
      "userId": "17532472304470261445"
     },
     "user_tz": -300
    },
    "id": "qWpcw6j506cR",
    "outputId": "d56f8576-5ffb-4e48-873a-a1728b50e0cd"
   },
   "outputs": [
    {
     "data": {
      "text/plain": [
       "array([[ 37. , 128.5,  18. ,  20. ],\n",
       "       [ 19.5,  70.5,  18. ,  20. ],\n",
       "       [ 10.5, 101. ,   8. ,  20. ],\n",
       "       [  7.5,  89. ,  31. ,  20. ],\n",
       "       [ 27.5, 133.5,  18. ,  20. ],\n",
       "       [ 49.5, 145.5,  46.5,  45. ],\n",
       "       [  7.5, 119.5,  18. ,  38. ],\n",
       "       [ 27.5, 119.5,  31. ,  20. ],\n",
       "       [  3. ,  52.5,  18. ,  20. ],\n",
       "       [ 19.5,  89. ,  31. ,   3. ],\n",
       "       [ 49.5, 137. ,  31. ,  20. ],\n",
       "       [ 14. , 119.5,  41. ,  20. ],\n",
       "       [ 14. ,  70.5,  18. ,   3. ],\n",
       "       [  1. ,  70.5,   2. ,   3. ],\n",
       "       [ 77. , 147. ,   3.5,  20. ],\n",
       "       [ 69.5, 150. ,  31. ,  45. ],\n",
       "       [ 49.5, 145.5,   8. ,  45. ],\n",
       "       [ 37. , 128.5,  18. ,  38. ],\n",
       "       [ 69.5, 141.5,  46.5,  38. ],\n",
       "       [ 37. , 141.5,  31. ,  38. ],\n",
       "       [ 49.5, 119.5,  46.5,  20. ],\n",
       "       [ 37. , 137. ,  31. ,  45. ],\n",
       "       [  7.5, 133.5,   1. ,  20. ],\n",
       "       [ 37. , 110.5,  46.5,  49. ],\n",
       "       [ 14. , 119.5,  49.5,  20. ],\n",
       "       [ 27.5,  70.5,  41. ,  20. ],\n",
       "       [ 27.5, 119.5,  41. ,  45. ],\n",
       "       [ 43.5, 128.5,  31. ,  20. ],\n",
       "       [ 43.5, 119.5,  18. ,  20. ],\n",
       "       [ 10.5, 101. ,  41. ,  20. ],\n",
       "       [ 14. ,  89. ,  41. ,  20. ],\n",
       "       [ 49.5, 119.5,  31. ,  45. ],\n",
       "       [ 43.5, 148. ,  31. ,   3. ],\n",
       "       [ 56. , 149. ,  18. ,  20. ],\n",
       "       [ 19.5,  89. ,  31. ,  20. ],\n",
       "       [ 27.5, 101. ,   3.5,  20. ],\n",
       "       [ 56. , 128.5,   8. ,  20. ],\n",
       "       [ 19.5, 133.5,  18. ,   3. ],\n",
       "       [  3. ,  70.5,   8. ,  20. ],\n",
       "       [ 37. , 119.5,  31. ,  20. ],\n",
       "       [ 27.5, 128.5,   8. ,  38. ],\n",
       "       [  5. ,   6.5,   8. ,  38. ],\n",
       "       [  3. , 101. ,   8. ,  20. ],\n",
       "       [ 27.5, 128.5,  41. ,  50. ],\n",
       "       [ 37. , 141.5,  49.5,  45. ],\n",
       "       [ 14. ,  70.5,  18. ,  38. ],\n",
       "       [ 37. , 141.5,  41. ,  20. ],\n",
       "       [  7.5, 101. ,  18. ,  20. ],\n",
       "       [ 46. , 137. ,  31. ,  20. ],\n",
       "       [ 27.5, 110.5,  18. ,  20. ],\n",
       "       [138. , 101. ,  93. ,  82.5],\n",
       "       [112. , 101. ,  83.5,  92.5],\n",
       "       [135.5,  89. , 102. ,  92.5],\n",
       "       [ 56. ,   6.5,  64. ,  72. ],\n",
       "       [118. ,  40.5,  89. ,  92.5],\n",
       "       [ 69.5,  40.5,  83.5,  72. ],\n",
       "       [104. , 110.5,  93. , 100.5],\n",
       "       [ 19.5,  10. ,  52.5,  54. ],\n",
       "       [121.5,  52.5,  89. ,  72. ],\n",
       "       [ 43.5,  29. ,  60. ,  82.5],\n",
       "       [ 27.5,   1. ,  54.5,  54. ],\n",
       "       [ 82. ,  70.5,  71.5,  92.5],\n",
       "       [ 86.5,   3. ,  64. ,  54. ],\n",
       "       [ 92.5,  52.5,  93. ,  82.5],\n",
       "       [ 62.5,  52.5,  56. ,  72. ],\n",
       "       [126.5,  89. ,  77.5,  82.5],\n",
       "       [ 62.5,  70.5,  83.5,  92.5],\n",
       "       [ 77. ,  29. ,  68. ,  54. ],\n",
       "       [ 97.5,   3. ,  83.5,  92.5],\n",
       "       [ 62.5,  15.5,  60. ,  59. ],\n",
       "       [ 82. , 101. ,  97.5, 110.5],\n",
       "       [ 92.5,  40.5,  64. ,  72. ],\n",
       "       [104. ,  15.5, 102. ,  92.5],\n",
       "       [ 92.5,  40.5,  93. ,  63. ],\n",
       "       [112. ,  52.5,  74.5,  72. ],\n",
       "       [121.5,  70.5,  77.5,  82.5],\n",
       "       [132. ,  40.5,  97.5,  82.5],\n",
       "       [126.5,  70.5, 106.5, 103.5],\n",
       "       [ 86.5,  52.5,  83.5,  92.5],\n",
       "       [ 69.5,  22. ,  54.5,  54. ],\n",
       "       [ 56. ,  10. ,  58. ,  59. ],\n",
       "       [ 56. ,  10. ,  57. ,  54. ],\n",
       "       [ 77. ,  29. ,  60. ,  63. ],\n",
       "       [ 86.5,  29. , 112.5, 100.5],\n",
       "       [ 49.5,  70.5,  83.5,  92.5],\n",
       "       [ 86.5, 119.5,  83.5, 100.5],\n",
       "       [126.5,  89. ,  93. ,  92.5],\n",
       "       [104. ,   6.5,  77.5,  72. ],\n",
       "       [ 62.5,  70.5,  68. ,  72. ],\n",
       "       [ 56. ,  15.5,  64. ,  72. ],\n",
       "       [ 56. ,  22. ,  77.5,  63. ],\n",
       "       [ 92.5,  70.5,  89. ,  82.5],\n",
       "       [ 77. ,  22. ,  64. ,  63. ],\n",
       "       [ 27.5,   6.5,  52.5,  54. ],\n",
       "       [ 62.5,  29. ,  71.5,  72. ],\n",
       "       [ 69.5,  70.5,  71.5,  63. ],\n",
       "       [ 69.5,  52.5,  71.5,  72. ],\n",
       "       [ 97.5,  52.5,  74.5,  72. ],\n",
       "       [ 37. ,  15.5,  51. ,  59. ],\n",
       "       [ 69.5,  40.5,  68. ,  72. ],\n",
       "       [104. , 110.5, 140.5, 149. ],\n",
       "       [ 77. ,  29. , 112.5, 119. ],\n",
       "       [139. ,  70.5, 138.5, 130.5],\n",
       "       [104. ,  52.5, 128.5, 110.5],\n",
       "       [118. ,  70.5, 136. , 135. ],\n",
       "       [145. ,  70.5, 147. , 130.5],\n",
       "       [ 19.5,  15.5,  83.5, 103.5],\n",
       "       [143. ,  52.5, 145. , 110.5],\n",
       "       [126.5,  15.5, 136. , 110.5],\n",
       "       [141. , 133.5, 143. , 149. ],\n",
       "       [118. , 101. , 112.5, 124.5],\n",
       "       [112. ,  29. , 119.5, 119. ],\n",
       "       [132. ,  70.5, 124. , 130.5],\n",
       "       [ 69.5,  15.5, 106.5, 124.5],\n",
       "       [ 77. ,  40.5, 112.5, 146. ],\n",
       "       [112. , 101. , 119.5, 140.5],\n",
       "       [118. ,  70.5, 124. , 110.5],\n",
       "       [147.5, 141.5, 148.5, 135. ],\n",
       "       [147.5,  22. , 150. , 140.5],\n",
       "       [ 86.5,   3. , 106.5,  92.5],\n",
       "       [135.5, 101. , 133. , 140.5],\n",
       "       [ 62.5,  40.5, 102. , 124.5],\n",
       "       [147.5,  40.5, 148.5, 124.5],\n",
       "       [104. ,  29. , 102. , 110.5],\n",
       "       [126.5, 110.5, 133. , 130.5],\n",
       "       [141. , 101. , 140.5, 110.5],\n",
       "       [ 97.5,  40.5,  97.5, 110.5],\n",
       "       [ 92.5,  70.5, 102. , 110.5],\n",
       "       [112. ,  40.5, 128.5, 130.5],\n",
       "       [141. ,  70.5, 136. , 100.5],\n",
       "       [144. ,  40.5, 143. , 119. ],\n",
       "       [150. , 141.5, 146. , 124.5],\n",
       "       [112. ,  40.5, 128.5, 135. ],\n",
       "       [104. ,  40.5, 112.5,  92.5],\n",
       "       [ 92.5,  22. , 128.5,  82.5],\n",
       "       [147.5,  70.5, 143. , 140.5],\n",
       "       [104. , 119.5, 128.5, 146. ],\n",
       "       [112. ,  89. , 124. , 110.5],\n",
       "       [ 86.5,  70.5,  97.5, 110.5],\n",
       "       [135.5,  89. , 121.5, 130.5],\n",
       "       [126.5,  89. , 128.5, 146. ],\n",
       "       [135.5,  89. , 112.5, 140.5],\n",
       "       [ 77. ,  29. , 112.5, 119. ],\n",
       "       [132. , 101. , 138.5, 140.5],\n",
       "       [126.5, 110.5, 133. , 149. ],\n",
       "       [126.5,  70.5, 117.5, 140.5],\n",
       "       [104. ,  15.5, 106.5, 119. ],\n",
       "       [118. ,  70.5, 117.5, 124.5],\n",
       "       [ 97.5, 119.5, 121.5, 140.5],\n",
       "       [ 82. ,  70.5, 112.5, 110.5]])"
      ]
     },
     "execution_count": 30,
     "metadata": {},
     "output_type": "execute_result"
    }
   ],
   "source": []
  },
  {
   "cell_type": "code",
   "execution_count": 3,
   "metadata": {
    "colab": {
     "base_uri": "https://localhost:8080/",
     "height": 545
    },
    "executionInfo": {
     "elapsed": 619,
     "status": "ok",
     "timestamp": 1743746609287,
     "user": {
      "displayName": "Danish Ali",
      "userId": "17532472304470261445"
     },
     "user_tz": -300
    },
    "id": "gtBVawyrZYjs",
    "outputId": "ba0b1bc2-9551-4516-828d-61db37d1fb0d"
   },
   "outputs": [
    {
     "data": {
      "image/png": "[encoded data removed]",
      "text/plain": [
       "<Figure size 800x600 with 2 Axes>"
      ]
     },
     "metadata": {},
     "output_type": "display_data"
    }
   ],
   "source": [
    "df = pd.DataFrame(iris.data, columns=iris.feature_names)\n",
    "\n",
    "correlation_matrix = df.corr()\n",
    "\n",
    "plt.figure(figsize=(8, 6))\n",
    "sns.heatmap(correlation_matrix, annot=True, cmap=\"coolwarm\", fmt=\".2f\")\n",
    "plt.title(\"Feature Correlation Matrix\")\n",
    "plt.show()"
   ]
  },
  {
   "cell_type": "code",
   "execution_count": null,
   "metadata": {
    "colab": {
     "base_uri": "https://localhost:8080/"
    },
    "executionInfo": {
     "elapsed": 45,
     "status": "ok",
     "timestamp": 1743655851908,
     "user": {
      "displayName": "Danish Ali",
      "userId": "17532472304470261445"
     },
     "user_tz": -300
    },
    "id": "Gd71Vmk2_DoK",
    "outputId": "cd704daf-4d9a-4023-ef41-29f9ed8b837e"
   },
   "outputs": [
    {
     "name": "stdout",
     "output_type": "stream",
     "text": [
      "Remaining features after Brute Force selection:\n",
      "Index(['sepal length (cm)', 'sepal width (cm)', 'petal length (cm)'], dtype='object')\n"
     ]
    }
   ],
   "source": [
    "def brute_force_feature_selection(df, threshold=0.9):\n",
    "    \"\"\"\n",
    "    Removes features that are highly correlated using a brute-force approach.\n",
    "    \"\"\"\n",
    "    correlated_features = set()\n",
    "    correlation_matrix = df.corr()\n",
    "\n",
    "    for i in range(len(correlation_matrix.columns)):\n",
    "        for j in range(i):\n",
    "            if abs(correlation_matrix.iloc[i, j]) > threshold:\n",
    "                colname = correlation_matrix.columns[i]\n",
    "                correlated_features.add(colname)\n",
    "\n",
    "    return df.drop(columns=correlated_features)\n",
    "\n",
    "# Apply Brute Force selection\n",
    "df_brute_force = brute_force_feature_selection(df)\n",
    "print(\"Remaining features after Brute Force selection:\")\n",
    "print(df_brute_force.columns)\n"
   ]
  },
  {
   "cell_type": "code",
   "execution_count": null,
   "metadata": {
    "colab": {
     "base_uri": "https://localhost:8080/"
    },
    "executionInfo": {
     "elapsed": 2319,
     "status": "ok",
     "timestamp": 1743655959854,
     "user": {
      "displayName": "Danish Ali",
      "userId": "17532472304470261445"
     },
     "user_tz": -300
    },
    "id": "S9Uy4FSG_NYe",
    "outputId": "4a9a4b57-c3f8-4fe4-e5fb-abba6ddb5a20"
   },
   "outputs": [
    {
     "name": "stdout",
     "output_type": "stream",
     "text": [
      "Remaining features after Group-Based selection:\n",
      "Index(['petal length (cm)', 'sepal length (cm)', 'sepal width (cm)'], dtype='object')\n"
     ]
    }
   ],
   "source": [
    "from sklearn.ensemble import RandomForestClassifier\n",
    "import numpy as np\n",
    "\n",
    "def group_based_feature_selection(df, y, threshold=0.9):\n",
    "    \"\"\"\n",
    "    Groups correlated features and selects the most important one.\n",
    "    \"\"\"\n",
    "    correlation_matrix = df.corr()\n",
    "    groups = []  # To store groups of correlated features\n",
    "    selected_features = set(df.columns)  # Start with all features\n",
    "\n",
    "    # Identify groups of correlated features\n",
    "    for i in range(len(correlation_matrix.columns)):\n",
    "        for j in range(i):\n",
    "            if abs(correlation_matrix.iloc[i, j]) > threshold:\n",
    "                group = set([correlation_matrix.columns[i], correlation_matrix.columns[j]])\n",
    "                groups.append(group)\n",
    "\n",
    "    # Train a model to get feature importances\n",
    "    model = RandomForestClassifier(n_estimators=100, random_state=42)\n",
    "    model.fit(df, y)\n",
    "    feature_importance = dict(zip(df.columns, model.feature_importances_))\n",
    "\n",
    "    # Select the most important feature from each group\n",
    "    for group in groups:\n",
    "        best_feature = max(group, key=lambda x: feature_importance[x])  # Select the highest importance\n",
    "        selected_features -= group  # Remove all\n",
    "        selected_features.add(best_feature)  # Add only the best one\n",
    "\n",
    "    return df[list(selected_features)]\n",
    "\n",
    "# Apply Group-Based Selection\n",
    "df_group_based = group_based_feature_selection(df, iris.target)\n",
    "print(\"Remaining features after Group-Based selection:\")\n",
    "print(df_group_based.columns)\n"
   ]
  },
  {
   "cell_type": "code",
   "execution_count": null,
   "metadata": {
    "id": "7yws0ytj_nLw"
   },
   "outputs": [],
   "source": []
  }
 ],
 "metadata": {
  "colab": {
   "authorship_tag": "ABX9TyOQiH2bBnRVL+InfpacAQAR",
   "provenance": []
  },
  "kernelspec": {
   "display_name": "Python 3",
   "name": "python3"
  },
  "language_info": {
   "name": "python"
  }
 },
 "nbformat": 4,
 "nbformat_minor": 0
}
