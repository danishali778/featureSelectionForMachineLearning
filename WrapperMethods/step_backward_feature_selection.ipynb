{
 "cells": [
  {
   "cell_type": "code",
   "execution_count": 1,
   "id": "ec594308",
   "metadata": {},
   "outputs": [],
   "source": [
    "import pandas as pd\n",
    "\n",
    "from sklearn.ensemble import RandomForestRegressor, RandomForestClassifier\n",
    "from sklearn.metrics import roc_auc_score, r2_score\n",
    "from sklearn.model_selection import train_test_split\n",
    "\n",
    "from sklearn.feature_selection import SequentialFeatureSelector as SFS"
   ]
  },
  {
   "cell_type": "code",
   "execution_count": null,
   "id": "3611f715",
   "metadata": {},
   "outputs": [],
   "source": [
    "data = pd.read_csv('../precleaned-datasets/dataset_2.csv')\n",
    "data"
   ]
  },
  {
   "cell_type": "code",
   "execution_count": null,
   "id": "833e103f",
   "metadata": {},
   "outputs": [],
   "source": [
    "X_train, X_test, y_train, y_test = train_test_split(data.drop(columns=['target']),\n",
    "                                                     data['target'],\n",
    "                                                       test_size=0.2,\n",
    "                                                         random_state=42)\n",
    "\n",
    "print(X_train.shape, X_test.shape, y_train.shape, y_test.shape)"
   ]
  },
  {
   "cell_type": "code",
   "execution_count": null,
   "id": "cd675e7b",
   "metadata": {},
   "outputs": [],
   "source": [
    "len(X_train.columns)  "
   ]
  },
  {
   "cell_type": "code",
   "execution_count": null,
   "id": "f9ae10e1",
   "metadata": {},
   "outputs": [],
   "source": [
    "# remove correlated features to reduce feature space\n",
    "correlated_features = set()\n",
    "correlation_matrix = data.corr()\n",
    "for i in range(len(correlation_matrix.columns)):\n",
    "    for j in range(i):\n",
    "        if abs(correlation_matrix.iloc[i, j]) > 0.8:\n",
    "            colname = correlation_matrix.columns[i]\n",
    "            correlated_features.add(colname)\n",
    "\n",
    "print(f\"Correlated features: {correlated_features}\")\n",
    "X_train = X_train.drop(columns=correlated_features)\n",
    "X_test = X_test.drop(columns=correlated_features)\n",
    "print(X_train.shape, X_test.shape, y_train.shape, y_test.shape)"
   ]
  },
  {
   "cell_type": "code",
   "execution_count": null,
   "id": "532bbb5e",
   "metadata": {},
   "outputs": [],
   "source": [
    "len(X_train.columns)  "
   ]
  },
  {
   "cell_type": "code",
   "execution_count": null,
   "id": "bd1800a1",
   "metadata": {},
   "outputs": [],
   "source": [
    "sfs = SFS(RandomForestClassifier(n_estimators=100, random_state=42),\n",
    "        n_features_to_select=10,  # -->  Number of features to select\n",
    "          direction='backward',   #  --> Backward selection\n",
    "          scoring='roc_auc', # --> Use ROC AUC as the scoring metric\n",
    "          cv=3)           # --> 5-fold cross-validation\n"
   ]
  },
  {
   "cell_type": "code",
   "execution_count": null,
   "id": "ee27093a",
   "metadata": {},
   "outputs": [],
   "source": [
    "sfs.fit(X_train, y_train)"
   ]
  },
  {
   "cell_type": "code",
   "execution_count": null,
   "id": "9221a771",
   "metadata": {},
   "outputs": [],
   "source": [
    "selected_feat = sfs.get_feature_names_out()\n",
    "print(selected_feat)"
   ]
  },
  {
   "cell_type": "code",
   "execution_count": null,
   "id": "8e5c7b37",
   "metadata": {},
   "outputs": [],
   "source": [
    "X_train_selected = sfs.transform(X_train)\n",
    "X_test_selected = sfs.transform(X_test)\n",
    "\n",
    "print(X_train_selected.shape, X_test_selected.shape, y_train.shape, y_test.shape)"
   ]
  }
 ],
 "metadata": {
  "kernelspec": {
   "display_name": "Python 3",
   "language": "python",
   "name": "python3"
  },
  "language_info": {
   "codemirror_mode": {
    "name": "ipython",
    "version": 3
   },
   "file_extension": ".py",
   "mimetype": "text/x-python",
   "name": "python",
   "nbconvert_exporter": "python",
   "pygments_lexer": "ipython3",
   "version": "3.11.3"
  }
 },
 "nbformat": 4,
 "nbformat_minor": 5
}
